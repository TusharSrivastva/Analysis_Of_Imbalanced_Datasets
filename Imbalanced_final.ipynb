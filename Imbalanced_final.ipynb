{
  "nbformat": 4,
  "nbformat_minor": 0,
  "metadata": {
    "colab": {
      "provenance": []
    },
    "kernelspec": {
      "name": "python3",
      "display_name": "Python 3"
    },
    "language_info": {
      "name": "python"
    }
  },
  "cells": [
    {
      "cell_type": "markdown",
      "source": [
        "<h1 align=\"center\">Tackling Imbalanced Dataset using Resampling Techniques</h1>"
      ],
      "metadata": {
        "id": "E48wx9e-Mldv"
      }
    },
    {
      "cell_type": "markdown",
      "source": [
        "<h2 align=\"center\"> About the project </h2>\n",
        "\n",
        "<p align = \"justify\">\n",
        "In this project I've used a number of combinantions of different resampling techniques with various predictive classifiers to see which combination is working best in detecting whether a transaction is a valid transaction or a fraud. As mentioned above, the features are scaled and the names of the features are hidden due to privacy reasons.\n",
        "\n",
        "</p>\n",
        "\n",
        "---"
      ],
      "metadata": {
        "id": "0znFeFhTbJu7"
      }
    },
    {
      "cell_type": "markdown",
      "source": [
        "\n",
        "<h2 align='center'> About the Dataset </h2>\n",
        "\n",
        "<p align = \"justify\">\n",
        "The dataset contains transactions made by credit cards in September 2013 by European cardholders. This dataset contains transactions that occurred in two days, where we have 492 fraud transactions out of 284,807 total transactions. The dataset is highly imbalanced, the positive class (frauds) accounts for 0.172% of all transactions.\n",
        "</p>\n",
        "\n",
        "<p align = \"justify\">\n",
        "The dataset contains only numerical input variable columns which are the result of a PCA transformation done on the original dataset. Due to confidentiality issues, Original features were not provided. Features V1, V2, … V28 are the principal components obtained with PCA, the only features which have not been transformed with PCA are 'Time' and 'Amount'. Feature 'Time' contains the seconds elapsed between each transaction and the first transaction in the dataset. The feature 'Amount' is the transaction Amount, this feature can be used for example-dependant cost-sensitive learning. Feature 'Class' is the response variable and it takes value 1 in case of a fraud tansaction and 0 otherwise. \n",
        "</p>\n",
        "\n",
        "---\n"
      ],
      "metadata": {
        "id": "qM09ekwqbVJ6"
      }
    },
    {
      "cell_type": "markdown",
      "source": [
        " <h2 align = \"center\" >Outline</h2>\n",
        "<p>\n",
        "<h3>I. Exploratory Data Analysis</h3>\n",
        "<ol type = None>\n",
        "<li>a) Analysis of the data</li>\n",
        "<li>b) Barplot</li>\n",
        "<li>c) Distplot</li>\n",
        "</ol>\n",
        "\n",
        "<h3>II. Data Preprocessing</h3>\n",
        "<ol type = None>\n",
        "<li>a) Scaling using Robust Scaler</li>\n",
        "<li>b) Splitting the Data into test and train sets<li>\n",
        "</ol>\n",
        "<h3>III. Resampling and Classification</h3>\n",
        "<ol type = None>\n",
        "<li>a) Resampling\n",
        "    <ol type = None>\n",
        "      <li>1) SMOTE (Synthetic Minority Oversampling Technique)\n",
        "      <li>2) Random Over Sampling\n",
        "      <li>3) Random Under Sampling\n",
        "      <li>4) NearMiss\n",
        "    </ol>\n",
        "<li>b) Classification\n",
        "    <ol type = None>\n",
        "      <li>1) Logistic Regression\n",
        "      <li>2) K-Nearst Neighbors\n",
        "      <li>3) Decision Tree\n",
        "      <li>4) Random Forest\n",
        "    </ol>\n",
        "</ol>\n",
        "\n",
        "<h3>IV. Result</h3>\n",
        "<ol type = None>\n",
        "<li>a) Evaluation Metrics\n",
        "<li>b) Confusion\n",
        "</ol>\n",
        "\n",
        "</p>\n"
      ],
      "metadata": {
        "id": "EtuljOIZVDr7"
      }
    },
    {
      "cell_type": "code",
      "execution_count": 26,
      "metadata": {
        "id": "sQsdLsxXvRE1"
      },
      "outputs": [],
      "source": [
        "# Importing Libraries\n",
        "\n",
        "# Basic Libraries.\n",
        "import numpy as np\n",
        "import pandas as pd \n",
        "import matplotlib.pyplot as plt\n",
        "import seaborn as sns\n",
        "import matplotlib.patches as mpatches\n",
        "import time\n",
        "import warnings\n",
        "\n",
        "# Classifier Libraries\n",
        "from sklearn.linear_model import LogisticRegression\n",
        "from sklearn.neighbors import KNeighborsClassifier\n",
        "from sklearn.tree import DecisionTreeClassifier\n",
        "from sklearn.ensemble import RandomForestClassifier\n",
        "import collections\n",
        "\n",
        "# Other important libraries\n",
        "from sklearn.preprocessing import RobustScaler\n",
        "from sklearn.model_selection import train_test_split\n",
        "from sklearn.model_selection import GridSearchCV, RandomizedSearchCV\n",
        "from sklearn.model_selection import KFold, StratifiedKFold, StratifiedShuffleSplit\n",
        "\n",
        "# Resampling libraries\n",
        "from imblearn.over_sampling import SMOTE\n",
        "from imblearn.under_sampling import NearMiss\n",
        "from imblearn.over_sampling import RandomOverSampler \n",
        "from imblearn.under_sampling import RandomUnderSampler \n",
        "\n",
        "# Evaluation Metrics\n",
        "from sklearn.metrics import precision_score, recall_score, f1_score, accuracy_score\n",
        "from sklearn.metrics import roc_auc_score, roc_curve, precision_recall_curve \n",
        "from sklearn.metrics import confusion_matrix\n",
        "from sklearn.metrics import classification_report\n",
        "from sklearn.model_selection import cross_val_predict\n",
        "\n",
        "\n",
        "warnings.filterwarnings(\"ignore\")\n",
        "\n",
        "%matplotlib inline"
      ]
    },
    {
      "cell_type": "code",
      "source": [
        "#Setting up kaggle and importing dataset using api from kaggle.json\n",
        "from google.colab import files\n",
        "files.upload()\n",
        "!pip install -q kaggle\n",
        "!mkdir -p ~/.kaggle\n",
        "!cp kaggle.json ~/.kaggle/\n",
        "'chmod 600 /root/.kaggle/kaggle.json'\n",
        "!kaggle datasets download -d mlg-ulb/creditcardfraud\n",
        "!ls\n",
        "!unzip creditcardfraud.zip\n",
        "!ls"
      ],
      "metadata": {
        "colab": {
          "base_uri": "https://localhost:8080/",
          "height": 218
        },
        "id": "DtypYtFNv1IK",
        "outputId": "0eed31c8-233c-4a87-aedb-50facdd748cd"
      },
      "execution_count": 2,
      "outputs": [
        {
          "output_type": "display_data",
          "data": {
            "text/plain": [
              "<IPython.core.display.HTML object>"
            ],
            "text/html": [
              "\n",
              "     <input type=\"file\" id=\"files-51f2f128-6473-4014-8039-0d60dc2e4e34\" name=\"files[]\" multiple disabled\n",
              "        style=\"border:none\" />\n",
              "     <output id=\"result-51f2f128-6473-4014-8039-0d60dc2e4e34\">\n",
              "      Upload widget is only available when the cell has been executed in the\n",
              "      current browser session. Please rerun this cell to enable.\n",
              "      </output>\n",
              "      <script>// Copyright 2017 Google LLC\n",
              "//\n",
              "// Licensed under the Apache License, Version 2.0 (the \"License\");\n",
              "// you may not use this file except in compliance with the License.\n",
              "// You may obtain a copy of the License at\n",
              "//\n",
              "//      http://www.apache.org/licenses/LICENSE-2.0\n",
              "//\n",
              "// Unless required by applicable law or agreed to in writing, software\n",
              "// distributed under the License is distributed on an \"AS IS\" BASIS,\n",
              "// WITHOUT WARRANTIES OR CONDITIONS OF ANY KIND, either express or implied.\n",
              "// See the License for the specific language governing permissions and\n",
              "// limitations under the License.\n",
              "\n",
              "/**\n",
              " * @fileoverview Helpers for google.colab Python module.\n",
              " */\n",
              "(function(scope) {\n",
              "function span(text, styleAttributes = {}) {\n",
              "  const element = document.createElement('span');\n",
              "  element.textContent = text;\n",
              "  for (const key of Object.keys(styleAttributes)) {\n",
              "    element.style[key] = styleAttributes[key];\n",
              "  }\n",
              "  return element;\n",
              "}\n",
              "\n",
              "// Max number of bytes which will be uploaded at a time.\n",
              "const MAX_PAYLOAD_SIZE = 100 * 1024;\n",
              "\n",
              "function _uploadFiles(inputId, outputId) {\n",
              "  const steps = uploadFilesStep(inputId, outputId);\n",
              "  const outputElement = document.getElementById(outputId);\n",
              "  // Cache steps on the outputElement to make it available for the next call\n",
              "  // to uploadFilesContinue from Python.\n",
              "  outputElement.steps = steps;\n",
              "\n",
              "  return _uploadFilesContinue(outputId);\n",
              "}\n",
              "\n",
              "// This is roughly an async generator (not supported in the browser yet),\n",
              "// where there are multiple asynchronous steps and the Python side is going\n",
              "// to poll for completion of each step.\n",
              "// This uses a Promise to block the python side on completion of each step,\n",
              "// then passes the result of the previous step as the input to the next step.\n",
              "function _uploadFilesContinue(outputId) {\n",
              "  const outputElement = document.getElementById(outputId);\n",
              "  const steps = outputElement.steps;\n",
              "\n",
              "  const next = steps.next(outputElement.lastPromiseValue);\n",
              "  return Promise.resolve(next.value.promise).then((value) => {\n",
              "    // Cache the last promise value to make it available to the next\n",
              "    // step of the generator.\n",
              "    outputElement.lastPromiseValue = value;\n",
              "    return next.value.response;\n",
              "  });\n",
              "}\n",
              "\n",
              "/**\n",
              " * Generator function which is called between each async step of the upload\n",
              " * process.\n",
              " * @param {string} inputId Element ID of the input file picker element.\n",
              " * @param {string} outputId Element ID of the output display.\n",
              " * @return {!Iterable<!Object>} Iterable of next steps.\n",
              " */\n",
              "function* uploadFilesStep(inputId, outputId) {\n",
              "  const inputElement = document.getElementById(inputId);\n",
              "  inputElement.disabled = false;\n",
              "\n",
              "  const outputElement = document.getElementById(outputId);\n",
              "  outputElement.innerHTML = '';\n",
              "\n",
              "  const pickedPromise = new Promise((resolve) => {\n",
              "    inputElement.addEventListener('change', (e) => {\n",
              "      resolve(e.target.files);\n",
              "    });\n",
              "  });\n",
              "\n",
              "  const cancel = document.createElement('button');\n",
              "  inputElement.parentElement.appendChild(cancel);\n",
              "  cancel.textContent = 'Cancel upload';\n",
              "  const cancelPromise = new Promise((resolve) => {\n",
              "    cancel.onclick = () => {\n",
              "      resolve(null);\n",
              "    };\n",
              "  });\n",
              "\n",
              "  // Wait for the user to pick the files.\n",
              "  const files = yield {\n",
              "    promise: Promise.race([pickedPromise, cancelPromise]),\n",
              "    response: {\n",
              "      action: 'starting',\n",
              "    }\n",
              "  };\n",
              "\n",
              "  cancel.remove();\n",
              "\n",
              "  // Disable the input element since further picks are not allowed.\n",
              "  inputElement.disabled = true;\n",
              "\n",
              "  if (!files) {\n",
              "    return {\n",
              "      response: {\n",
              "        action: 'complete',\n",
              "      }\n",
              "    };\n",
              "  }\n",
              "\n",
              "  for (const file of files) {\n",
              "    const li = document.createElement('li');\n",
              "    li.append(span(file.name, {fontWeight: 'bold'}));\n",
              "    li.append(span(\n",
              "        `(${file.type || 'n/a'}) - ${file.size} bytes, ` +\n",
              "        `last modified: ${\n",
              "            file.lastModifiedDate ? file.lastModifiedDate.toLocaleDateString() :\n",
              "                                    'n/a'} - `));\n",
              "    const percent = span('0% done');\n",
              "    li.appendChild(percent);\n",
              "\n",
              "    outputElement.appendChild(li);\n",
              "\n",
              "    const fileDataPromise = new Promise((resolve) => {\n",
              "      const reader = new FileReader();\n",
              "      reader.onload = (e) => {\n",
              "        resolve(e.target.result);\n",
              "      };\n",
              "      reader.readAsArrayBuffer(file);\n",
              "    });\n",
              "    // Wait for the data to be ready.\n",
              "    let fileData = yield {\n",
              "      promise: fileDataPromise,\n",
              "      response: {\n",
              "        action: 'continue',\n",
              "      }\n",
              "    };\n",
              "\n",
              "    // Use a chunked sending to avoid message size limits. See b/62115660.\n",
              "    let position = 0;\n",
              "    do {\n",
              "      const length = Math.min(fileData.byteLength - position, MAX_PAYLOAD_SIZE);\n",
              "      const chunk = new Uint8Array(fileData, position, length);\n",
              "      position += length;\n",
              "\n",
              "      const base64 = btoa(String.fromCharCode.apply(null, chunk));\n",
              "      yield {\n",
              "        response: {\n",
              "          action: 'append',\n",
              "          file: file.name,\n",
              "          data: base64,\n",
              "        },\n",
              "      };\n",
              "\n",
              "      let percentDone = fileData.byteLength === 0 ?\n",
              "          100 :\n",
              "          Math.round((position / fileData.byteLength) * 100);\n",
              "      percent.textContent = `${percentDone}% done`;\n",
              "\n",
              "    } while (position < fileData.byteLength);\n",
              "  }\n",
              "\n",
              "  // All done.\n",
              "  yield {\n",
              "    response: {\n",
              "      action: 'complete',\n",
              "    }\n",
              "  };\n",
              "}\n",
              "\n",
              "scope.google = scope.google || {};\n",
              "scope.google.colab = scope.google.colab || {};\n",
              "scope.google.colab._files = {\n",
              "  _uploadFiles,\n",
              "  _uploadFilesContinue,\n",
              "};\n",
              "})(self);\n",
              "</script> "
            ]
          },
          "metadata": {}
        },
        {
          "output_type": "stream",
          "name": "stdout",
          "text": [
            "Saving kaggle.json to kaggle.json\n",
            "Warning: Your Kaggle API key is readable by other users on this system! To fix this, you can run 'chmod 600 /root/.kaggle/kaggle.json'\n",
            "Downloading creditcardfraud.zip to /content\n",
            " 74% 49.0M/66.0M [00:00<00:00, 180MB/s]\n",
            "100% 66.0M/66.0M [00:00<00:00, 161MB/s]\n",
            "creditcardfraud.zip  kaggle.json  sample_data\n",
            "Archive:  creditcardfraud.zip\n",
            "  inflating: creditcard.csv          \n",
            "creditcard.csv\tcreditcardfraud.zip  kaggle.json  sample_data\n"
          ]
        }
      ]
    },
    {
      "cell_type": "markdown",
      "source": [
        "<h2 align = \"center\"> Exploratory Data Analysis </h2>"
      ],
      "metadata": {
        "id": "Kzzw-ELLb5_S"
      }
    },
    {
      "cell_type": "code",
      "source": [
        "df = pd.read_csv('creditcard.csv')\n",
        "df.head()"
      ],
      "metadata": {
        "colab": {
          "base_uri": "https://localhost:8080/",
          "height": 236
        },
        "id": "GaEKLcZav9DV",
        "outputId": "5b34f28d-f6ae-49ef-af54-7d778e88fa46"
      },
      "execution_count": 3,
      "outputs": [
        {
          "output_type": "execute_result",
          "data": {
            "text/plain": [
              "   Time        V1        V2        V3        V4        V5        V6        V7  \\\n",
              "0   0.0 -1.359807 -0.072781  2.536347  1.378155 -0.338321  0.462388  0.239599   \n",
              "1   0.0  1.191857  0.266151  0.166480  0.448154  0.060018 -0.082361 -0.078803   \n",
              "2   1.0 -1.358354 -1.340163  1.773209  0.379780 -0.503198  1.800499  0.791461   \n",
              "3   1.0 -0.966272 -0.185226  1.792993 -0.863291 -0.010309  1.247203  0.237609   \n",
              "4   2.0 -1.158233  0.877737  1.548718  0.403034 -0.407193  0.095921  0.592941   \n",
              "\n",
              "         V8        V9  ...       V21       V22       V23       V24       V25  \\\n",
              "0  0.098698  0.363787  ... -0.018307  0.277838 -0.110474  0.066928  0.128539   \n",
              "1  0.085102 -0.255425  ... -0.225775 -0.638672  0.101288 -0.339846  0.167170   \n",
              "2  0.247676 -1.514654  ...  0.247998  0.771679  0.909412 -0.689281 -0.327642   \n",
              "3  0.377436 -1.387024  ... -0.108300  0.005274 -0.190321 -1.175575  0.647376   \n",
              "4 -0.270533  0.817739  ... -0.009431  0.798278 -0.137458  0.141267 -0.206010   \n",
              "\n",
              "        V26       V27       V28  Amount  Class  \n",
              "0 -0.189115  0.133558 -0.021053  149.62      0  \n",
              "1  0.125895 -0.008983  0.014724    2.69      0  \n",
              "2 -0.139097 -0.055353 -0.059752  378.66      0  \n",
              "3 -0.221929  0.062723  0.061458  123.50      0  \n",
              "4  0.502292  0.219422  0.215153   69.99      0  \n",
              "\n",
              "[5 rows x 31 columns]"
            ],
            "text/html": [
              "\n",
              "  <div id=\"df-4a819f46-ba1e-477c-a85e-a8e66b9177a5\">\n",
              "    <div class=\"colab-df-container\">\n",
              "      <div>\n",
              "<style scoped>\n",
              "    .dataframe tbody tr th:only-of-type {\n",
              "        vertical-align: middle;\n",
              "    }\n",
              "\n",
              "    .dataframe tbody tr th {\n",
              "        vertical-align: top;\n",
              "    }\n",
              "\n",
              "    .dataframe thead th {\n",
              "        text-align: right;\n",
              "    }\n",
              "</style>\n",
              "<table border=\"1\" class=\"dataframe\">\n",
              "  <thead>\n",
              "    <tr style=\"text-align: right;\">\n",
              "      <th></th>\n",
              "      <th>Time</th>\n",
              "      <th>V1</th>\n",
              "      <th>V2</th>\n",
              "      <th>V3</th>\n",
              "      <th>V4</th>\n",
              "      <th>V5</th>\n",
              "      <th>V6</th>\n",
              "      <th>V7</th>\n",
              "      <th>V8</th>\n",
              "      <th>V9</th>\n",
              "      <th>...</th>\n",
              "      <th>V21</th>\n",
              "      <th>V22</th>\n",
              "      <th>V23</th>\n",
              "      <th>V24</th>\n",
              "      <th>V25</th>\n",
              "      <th>V26</th>\n",
              "      <th>V27</th>\n",
              "      <th>V28</th>\n",
              "      <th>Amount</th>\n",
              "      <th>Class</th>\n",
              "    </tr>\n",
              "  </thead>\n",
              "  <tbody>\n",
              "    <tr>\n",
              "      <th>0</th>\n",
              "      <td>0.0</td>\n",
              "      <td>-1.359807</td>\n",
              "      <td>-0.072781</td>\n",
              "      <td>2.536347</td>\n",
              "      <td>1.378155</td>\n",
              "      <td>-0.338321</td>\n",
              "      <td>0.462388</td>\n",
              "      <td>0.239599</td>\n",
              "      <td>0.098698</td>\n",
              "      <td>0.363787</td>\n",
              "      <td>...</td>\n",
              "      <td>-0.018307</td>\n",
              "      <td>0.277838</td>\n",
              "      <td>-0.110474</td>\n",
              "      <td>0.066928</td>\n",
              "      <td>0.128539</td>\n",
              "      <td>-0.189115</td>\n",
              "      <td>0.133558</td>\n",
              "      <td>-0.021053</td>\n",
              "      <td>149.62</td>\n",
              "      <td>0</td>\n",
              "    </tr>\n",
              "    <tr>\n",
              "      <th>1</th>\n",
              "      <td>0.0</td>\n",
              "      <td>1.191857</td>\n",
              "      <td>0.266151</td>\n",
              "      <td>0.166480</td>\n",
              "      <td>0.448154</td>\n",
              "      <td>0.060018</td>\n",
              "      <td>-0.082361</td>\n",
              "      <td>-0.078803</td>\n",
              "      <td>0.085102</td>\n",
              "      <td>-0.255425</td>\n",
              "      <td>...</td>\n",
              "      <td>-0.225775</td>\n",
              "      <td>-0.638672</td>\n",
              "      <td>0.101288</td>\n",
              "      <td>-0.339846</td>\n",
              "      <td>0.167170</td>\n",
              "      <td>0.125895</td>\n",
              "      <td>-0.008983</td>\n",
              "      <td>0.014724</td>\n",
              "      <td>2.69</td>\n",
              "      <td>0</td>\n",
              "    </tr>\n",
              "    <tr>\n",
              "      <th>2</th>\n",
              "      <td>1.0</td>\n",
              "      <td>-1.358354</td>\n",
              "      <td>-1.340163</td>\n",
              "      <td>1.773209</td>\n",
              "      <td>0.379780</td>\n",
              "      <td>-0.503198</td>\n",
              "      <td>1.800499</td>\n",
              "      <td>0.791461</td>\n",
              "      <td>0.247676</td>\n",
              "      <td>-1.514654</td>\n",
              "      <td>...</td>\n",
              "      <td>0.247998</td>\n",
              "      <td>0.771679</td>\n",
              "      <td>0.909412</td>\n",
              "      <td>-0.689281</td>\n",
              "      <td>-0.327642</td>\n",
              "      <td>-0.139097</td>\n",
              "      <td>-0.055353</td>\n",
              "      <td>-0.059752</td>\n",
              "      <td>378.66</td>\n",
              "      <td>0</td>\n",
              "    </tr>\n",
              "    <tr>\n",
              "      <th>3</th>\n",
              "      <td>1.0</td>\n",
              "      <td>-0.966272</td>\n",
              "      <td>-0.185226</td>\n",
              "      <td>1.792993</td>\n",
              "      <td>-0.863291</td>\n",
              "      <td>-0.010309</td>\n",
              "      <td>1.247203</td>\n",
              "      <td>0.237609</td>\n",
              "      <td>0.377436</td>\n",
              "      <td>-1.387024</td>\n",
              "      <td>...</td>\n",
              "      <td>-0.108300</td>\n",
              "      <td>0.005274</td>\n",
              "      <td>-0.190321</td>\n",
              "      <td>-1.175575</td>\n",
              "      <td>0.647376</td>\n",
              "      <td>-0.221929</td>\n",
              "      <td>0.062723</td>\n",
              "      <td>0.061458</td>\n",
              "      <td>123.50</td>\n",
              "      <td>0</td>\n",
              "    </tr>\n",
              "    <tr>\n",
              "      <th>4</th>\n",
              "      <td>2.0</td>\n",
              "      <td>-1.158233</td>\n",
              "      <td>0.877737</td>\n",
              "      <td>1.548718</td>\n",
              "      <td>0.403034</td>\n",
              "      <td>-0.407193</td>\n",
              "      <td>0.095921</td>\n",
              "      <td>0.592941</td>\n",
              "      <td>-0.270533</td>\n",
              "      <td>0.817739</td>\n",
              "      <td>...</td>\n",
              "      <td>-0.009431</td>\n",
              "      <td>0.798278</td>\n",
              "      <td>-0.137458</td>\n",
              "      <td>0.141267</td>\n",
              "      <td>-0.206010</td>\n",
              "      <td>0.502292</td>\n",
              "      <td>0.219422</td>\n",
              "      <td>0.215153</td>\n",
              "      <td>69.99</td>\n",
              "      <td>0</td>\n",
              "    </tr>\n",
              "  </tbody>\n",
              "</table>\n",
              "<p>5 rows × 31 columns</p>\n",
              "</div>\n",
              "      <button class=\"colab-df-convert\" onclick=\"convertToInteractive('df-4a819f46-ba1e-477c-a85e-a8e66b9177a5')\"\n",
              "              title=\"Convert this dataframe to an interactive table.\"\n",
              "              style=\"display:none;\">\n",
              "        \n",
              "  <svg xmlns=\"http://www.w3.org/2000/svg\" height=\"24px\"viewBox=\"0 0 24 24\"\n",
              "       width=\"24px\">\n",
              "    <path d=\"M0 0h24v24H0V0z\" fill=\"none\"/>\n",
              "    <path d=\"M18.56 5.44l.94 2.06.94-2.06 2.06-.94-2.06-.94-.94-2.06-.94 2.06-2.06.94zm-11 1L8.5 8.5l.94-2.06 2.06-.94-2.06-.94L8.5 2.5l-.94 2.06-2.06.94zm10 10l.94 2.06.94-2.06 2.06-.94-2.06-.94-.94-2.06-.94 2.06-2.06.94z\"/><path d=\"M17.41 7.96l-1.37-1.37c-.4-.4-.92-.59-1.43-.59-.52 0-1.04.2-1.43.59L10.3 9.45l-7.72 7.72c-.78.78-.78 2.05 0 2.83L4 21.41c.39.39.9.59 1.41.59.51 0 1.02-.2 1.41-.59l7.78-7.78 2.81-2.81c.8-.78.8-2.07 0-2.86zM5.41 20L4 18.59l7.72-7.72 1.47 1.35L5.41 20z\"/>\n",
              "  </svg>\n",
              "      </button>\n",
              "      \n",
              "  <style>\n",
              "    .colab-df-container {\n",
              "      display:flex;\n",
              "      flex-wrap:wrap;\n",
              "      gap: 12px;\n",
              "    }\n",
              "\n",
              "    .colab-df-convert {\n",
              "      background-color: #E8F0FE;\n",
              "      border: none;\n",
              "      border-radius: 50%;\n",
              "      cursor: pointer;\n",
              "      display: none;\n",
              "      fill: #1967D2;\n",
              "      height: 32px;\n",
              "      padding: 0 0 0 0;\n",
              "      width: 32px;\n",
              "    }\n",
              "\n",
              "    .colab-df-convert:hover {\n",
              "      background-color: #E2EBFA;\n",
              "      box-shadow: 0px 1px 2px rgba(60, 64, 67, 0.3), 0px 1px 3px 1px rgba(60, 64, 67, 0.15);\n",
              "      fill: #174EA6;\n",
              "    }\n",
              "\n",
              "    [theme=dark] .colab-df-convert {\n",
              "      background-color: #3B4455;\n",
              "      fill: #D2E3FC;\n",
              "    }\n",
              "\n",
              "    [theme=dark] .colab-df-convert:hover {\n",
              "      background-color: #434B5C;\n",
              "      box-shadow: 0px 1px 3px 1px rgba(0, 0, 0, 0.15);\n",
              "      filter: drop-shadow(0px 1px 2px rgba(0, 0, 0, 0.3));\n",
              "      fill: #FFFFFF;\n",
              "    }\n",
              "  </style>\n",
              "\n",
              "      <script>\n",
              "        const buttonEl =\n",
              "          document.querySelector('#df-4a819f46-ba1e-477c-a85e-a8e66b9177a5 button.colab-df-convert');\n",
              "        buttonEl.style.display =\n",
              "          google.colab.kernel.accessAllowed ? 'block' : 'none';\n",
              "\n",
              "        async function convertToInteractive(key) {\n",
              "          const element = document.querySelector('#df-4a819f46-ba1e-477c-a85e-a8e66b9177a5');\n",
              "          const dataTable =\n",
              "            await google.colab.kernel.invokeFunction('convertToInteractive',\n",
              "                                                     [key], {});\n",
              "          if (!dataTable) return;\n",
              "\n",
              "          const docLinkHtml = 'Like what you see? Visit the ' +\n",
              "            '<a target=\"_blank\" href=https://colab.research.google.com/notebooks/data_table.ipynb>data table notebook</a>'\n",
              "            + ' to learn more about interactive tables.';\n",
              "          element.innerHTML = '';\n",
              "          dataTable['output_type'] = 'display_data';\n",
              "          await google.colab.output.renderOutput(dataTable, element);\n",
              "          const docLink = document.createElement('div');\n",
              "          docLink.innerHTML = docLinkHtml;\n",
              "          element.appendChild(docLink);\n",
              "        }\n",
              "      </script>\n",
              "    </div>\n",
              "  </div>\n",
              "  "
            ]
          },
          "metadata": {},
          "execution_count": 3
        }
      ]
    },
    {
      "cell_type": "code",
      "source": [
        "df.info()"
      ],
      "metadata": {
        "colab": {
          "base_uri": "https://localhost:8080/"
        },
        "id": "-J8ZccnawO6c",
        "outputId": "92b13d84-9c8e-4b5f-bcbb-09c1fec286c2"
      },
      "execution_count": 4,
      "outputs": [
        {
          "output_type": "stream",
          "name": "stdout",
          "text": [
            "<class 'pandas.core.frame.DataFrame'>\n",
            "RangeIndex: 284807 entries, 0 to 284806\n",
            "Data columns (total 31 columns):\n",
            " #   Column  Non-Null Count   Dtype  \n",
            "---  ------  --------------   -----  \n",
            " 0   Time    284807 non-null  float64\n",
            " 1   V1      284807 non-null  float64\n",
            " 2   V2      284807 non-null  float64\n",
            " 3   V3      284807 non-null  float64\n",
            " 4   V4      284807 non-null  float64\n",
            " 5   V5      284807 non-null  float64\n",
            " 6   V6      284807 non-null  float64\n",
            " 7   V7      284807 non-null  float64\n",
            " 8   V8      284807 non-null  float64\n",
            " 9   V9      284807 non-null  float64\n",
            " 10  V10     284807 non-null  float64\n",
            " 11  V11     284807 non-null  float64\n",
            " 12  V12     284807 non-null  float64\n",
            " 13  V13     284807 non-null  float64\n",
            " 14  V14     284807 non-null  float64\n",
            " 15  V15     284807 non-null  float64\n",
            " 16  V16     284807 non-null  float64\n",
            " 17  V17     284807 non-null  float64\n",
            " 18  V18     284807 non-null  float64\n",
            " 19  V19     284807 non-null  float64\n",
            " 20  V20     284807 non-null  float64\n",
            " 21  V21     284807 non-null  float64\n",
            " 22  V22     284807 non-null  float64\n",
            " 23  V23     284807 non-null  float64\n",
            " 24  V24     284807 non-null  float64\n",
            " 25  V25     284807 non-null  float64\n",
            " 26  V26     284807 non-null  float64\n",
            " 27  V27     284807 non-null  float64\n",
            " 28  V28     284807 non-null  float64\n",
            " 29  Amount  284807 non-null  float64\n",
            " 30  Class   284807 non-null  int64  \n",
            "dtypes: float64(30), int64(1)\n",
            "memory usage: 67.4 MB\n"
          ]
        }
      ]
    },
    {
      "cell_type": "code",
      "source": [
        "print(df.isnull().sum().max())\n",
        "print(df.shape)"
      ],
      "metadata": {
        "colab": {
          "base_uri": "https://localhost:8080/"
        },
        "id": "wbs2IoV4wg4K",
        "outputId": "92532e1a-c583-4175-c0c2-2c6fa975b113"
      },
      "execution_count": 5,
      "outputs": [
        {
          "output_type": "stream",
          "name": "stdout",
          "text": [
            "0\n",
            "(284807, 31)\n"
          ]
        }
      ]
    },
    {
      "cell_type": "code",
      "source": [
        "# Checking the percentage of fraud and non-fraud transactions\n",
        "fraud = df[df.Class==1]\n",
        "non_fraud = df[df.Class==0]\n",
        "\n",
        "# Fraction of fraud transactions\n",
        "frac_of_fraud = len(fraud)/len(df)\n",
        "\n",
        "# Fraction of non-fraud transactions\n",
        "frac_of_non_fraud = len(non_fraud)/len(df)\n",
        "\n",
        "print('Percentage of Frauds: {}%' .format(round(frac_of_fraud*100, 2)))\n",
        "print('Percentage of Non-Frauds: {}%' .format(round(frac_of_non_fraud*100, 2)))"
      ],
      "metadata": {
        "colab": {
          "base_uri": "https://localhost:8080/"
        },
        "id": "j1-akPcFwmh7",
        "outputId": "7d9e901c-9f38-413d-f72b-0d6d7d7c1b97"
      },
      "execution_count": 6,
      "outputs": [
        {
          "output_type": "stream",
          "name": "stdout",
          "text": [
            "Percentage of Frauds: 0.17%\n",
            "Percentage of Non-Frauds: 99.83%\n"
          ]
        }
      ]
    },
    {
      "cell_type": "code",
      "source": [
        "# Graphical Representation of fraud and non fraud transactions in the dataset\n",
        "colors = ['green','red']\n",
        "sns.countplot('Class', data=df, palette=colors)\n",
        "plt.title('Class Distributions \\n (0: No Fraud | 1: Fraud)', \n",
        "          fontsize=14);"
      ],
      "metadata": {
        "colab": {
          "base_uri": "https://localhost:8080/",
          "height": 313
        },
        "id": "tKwF9zWswvyO",
        "outputId": "4566c61f-ca19-4080-a13b-659f3ef60a3f"
      },
      "execution_count": 7,
      "outputs": [
        {
          "output_type": "display_data",
          "data": {
            "text/plain": [
              "<Figure size 432x288 with 1 Axes>"
            ],
            "image/png": "[encoded data removed]"
          },
          "metadata": {
            "needs_background": "light"
          }
        }
      ]
    },
    {
      "cell_type": "code",
      "source": [
        "# From the above graph it is clear that the dataset is highly imbalanced.\n",
        "df['Class'].value_counts()"
      ],
      "metadata": {
        "colab": {
          "base_uri": "https://localhost:8080/"
        },
        "id": "GsBIj7xMw4RN",
        "outputId": "5f1f95eb-e29c-4e3d-9cb8-76a7f4356d1b"
      },
      "execution_count": 8,
      "outputs": [
        {
          "output_type": "execute_result",
          "data": {
            "text/plain": [
              "0    284315\n",
              "1       492\n",
              "Name: Class, dtype: int64"
            ]
          },
          "metadata": {},
          "execution_count": 8
        }
      ]
    },
    {
      "cell_type": "code",
      "source": [
        "# This function is for checking the distribution of the non-transformed values which are 'Aomunt' and 'Time'.\n",
        "def distplot(df):\n",
        "  fig, ax = plt.subplots(nrows = 2, \n",
        "                         ncols = 1, \n",
        "                         figsize = (15,10))\n",
        "\n",
        "  amnt = df['Amount'].to_numpy()\n",
        "  tm = df['Time'].to_numpy()\n",
        "\n",
        "  sns.distplot(amnt, color = 'r',\n",
        "                ax = ax[0])\n",
        "  ax[0].set_title('Distribution of Transaction Amount', \n",
        "                  fontsize=14);\n",
        "\n",
        "  sns.distplot(tm, color = 'b',\n",
        "              ax = ax[1]);\n",
        "  ax[1].set_title('Distribution of Time', \n",
        "                fontsize=14)\n",
        "\n",
        "distplot(df)"
      ],
      "metadata": {
        "id": "orjlPsqgxSac",
        "colab": {
          "base_uri": "https://localhost:8080/",
          "height": 609
        },
        "outputId": "3c92fbf9-fdff-4262-a612-c4be6a4106bd"
      },
      "execution_count": 9,
      "outputs": [
        {
          "output_type": "display_data",
          "data": {
            "text/plain": [
              "<Figure size 1080x720 with 2 Axes>"
            ],
            "image/png": "[encoded data removed]"
          },
          "metadata": {
            "needs_background": "light"
          }
        }
      ]
    },
    {
      "cell_type": "code",
      "source": [
        "corr_matrix = df.corr()\n",
        "corr_matrix['Class'].sort_values(ascending=False)"
      ],
      "metadata": {
        "colab": {
          "base_uri": "https://localhost:8080/"
        },
        "id": "6lLRjvXTyedn",
        "outputId": "75768ccc-c064-4b09-bb14-200cc317441e"
      },
      "execution_count": 10,
      "outputs": [
        {
          "output_type": "execute_result",
          "data": {
            "text/plain": [
              "Class     1.000000\n",
              "V11       0.154876\n",
              "V4        0.133447\n",
              "V2        0.091289\n",
              "V21       0.040413\n",
              "V19       0.034783\n",
              "V20       0.020090\n",
              "V8        0.019875\n",
              "V27       0.017580\n",
              "V28       0.009536\n",
              "Amount    0.005632\n",
              "V26       0.004455\n",
              "V25       0.003308\n",
              "V22       0.000805\n",
              "V23      -0.002685\n",
              "V15      -0.004223\n",
              "V13      -0.004570\n",
              "V24      -0.007221\n",
              "Time     -0.012323\n",
              "V6       -0.043643\n",
              "V5       -0.094974\n",
              "V9       -0.097733\n",
              "V1       -0.101347\n",
              "V18      -0.111485\n",
              "V7       -0.187257\n",
              "V3       -0.192961\n",
              "V16      -0.196539\n",
              "V10      -0.216883\n",
              "V12      -0.260593\n",
              "V14      -0.302544\n",
              "V17      -0.326481\n",
              "Name: Class, dtype: float64"
            ]
          },
          "metadata": {},
          "execution_count": 10
        }
      ]
    },
    {
      "cell_type": "markdown",
      "source": [
        "<h2 align = \"center\"> Data Preprocessing </h2>"
      ],
      "metadata": {
        "id": "eWnbef8D4D9T"
      }
    },
    {
      "cell_type": "code",
      "source": [
        "# This function uses Robust Scaler for scaling since it is less prone to outliers.\n",
        "def robustscaler(df):\n",
        "  rob_scalar = RobustScaler()\n",
        "\n",
        "  df['scaled_Time'] = rob_scalar.fit_transform(df['Time'].values.reshape(-1,1))\n",
        "  df['scaled_Amount'] = rob_scalar.fit_transform(df['Amount'].values.reshape(-1,1))\n",
        "\n",
        "  # Repositioning 'Time' and 'Amount' in the dataset\n",
        "  df.drop(['Time','Amount'], \n",
        "          axis=1, \n",
        "          inplace=True)\n",
        "\n",
        "  scaled_amount = df['scaled_Amount']\n",
        "  scaled_time = df['scaled_Time']\n",
        "\n",
        "  df.drop(['scaled_Amount', 'scaled_Time'], \n",
        "          axis=1, \n",
        "          inplace=True)\n",
        "  \n",
        "  df.insert(0, 'Amount', scaled_amount)\n",
        "  df.insert(1, 'Time', scaled_time)\n",
        "\n",
        "  return(df)\n",
        "\n",
        "df = robustscaler(df)\n",
        "df.head()"
      ],
      "metadata": {
        "colab": {
          "base_uri": "https://localhost:8080/",
          "height": 280
        },
        "id": "LJ-tEtGi3DYn",
        "outputId": "fe23ae8d-4539-4ec9-80e6-7340903b425b"
      },
      "execution_count": 11,
      "outputs": [
        {
          "output_type": "execute_result",
          "data": {
            "text/plain": [
              "     Amount      Time        V1        V2        V3        V4        V5  \\\n",
              "0  1.783274 -0.994983 -1.359807 -0.072781  2.536347  1.378155 -0.338321   \n",
              "1 -0.269825 -0.994983  1.191857  0.266151  0.166480  0.448154  0.060018   \n",
              "2  4.983721 -0.994972 -1.358354 -1.340163  1.773209  0.379780 -0.503198   \n",
              "3  1.418291 -0.994972 -0.966272 -0.185226  1.792993 -0.863291 -0.010309   \n",
              "4  0.670579 -0.994960 -1.158233  0.877737  1.548718  0.403034 -0.407193   \n",
              "\n",
              "         V6        V7        V8  ...       V20       V21       V22       V23  \\\n",
              "0  0.462388  0.239599  0.098698  ...  0.251412 -0.018307  0.277838 -0.110474   \n",
              "1 -0.082361 -0.078803  0.085102  ... -0.069083 -0.225775 -0.638672  0.101288   \n",
              "2  1.800499  0.791461  0.247676  ...  0.524980  0.247998  0.771679  0.909412   \n",
              "3  1.247203  0.237609  0.377436  ... -0.208038 -0.108300  0.005274 -0.190321   \n",
              "4  0.095921  0.592941 -0.270533  ...  0.408542 -0.009431  0.798278 -0.137458   \n",
              "\n",
              "        V24       V25       V26       V27       V28  Class  \n",
              "0  0.066928  0.128539 -0.189115  0.133558 -0.021053      0  \n",
              "1 -0.339846  0.167170  0.125895 -0.008983  0.014724      0  \n",
              "2 -0.689281 -0.327642 -0.139097 -0.055353 -0.059752      0  \n",
              "3 -1.175575  0.647376 -0.221929  0.062723  0.061458      0  \n",
              "4  0.141267 -0.206010  0.502292  0.219422  0.215153      0  \n",
              "\n",
              "[5 rows x 31 columns]"
            ],
            "text/html": [
              "\n",
              "  <div id=\"df-150f93f3-63a6-4479-a9c9-0805c6fec813\">\n",
              "    <div class=\"colab-df-container\">\n",
              "      <div>\n",
              "<style scoped>\n",
              "    .dataframe tbody tr th:only-of-type {\n",
              "        vertical-align: middle;\n",
              "    }\n",
              "\n",
              "    .dataframe tbody tr th {\n",
              "        vertical-align: top;\n",
              "    }\n",
              "\n",
              "    .dataframe thead th {\n",
              "        text-align: right;\n",
              "    }\n",
              "</style>\n",
              "<table border=\"1\" class=\"dataframe\">\n",
              "  <thead>\n",
              "    <tr style=\"text-align: right;\">\n",
              "      <th></th>\n",
              "      <th>Amount</th>\n",
              "      <th>Time</th>\n",
              "      <th>V1</th>\n",
              "      <th>V2</th>\n",
              "      <th>V3</th>\n",
              "      <th>V4</th>\n",
              "      <th>V5</th>\n",
              "      <th>V6</th>\n",
              "      <th>V7</th>\n",
              "      <th>V8</th>\n",
              "      <th>...</th>\n",
              "      <th>V20</th>\n",
              "      <th>V21</th>\n",
              "      <th>V22</th>\n",
              "      <th>V23</th>\n",
              "      <th>V24</th>\n",
              "      <th>V25</th>\n",
              "      <th>V26</th>\n",
              "      <th>V27</th>\n",
              "      <th>V28</th>\n",
              "      <th>Class</th>\n",
              "    </tr>\n",
              "  </thead>\n",
              "  <tbody>\n",
              "    <tr>\n",
              "      <th>0</th>\n",
              "      <td>1.783274</td>\n",
              "      <td>-0.994983</td>\n",
              "      <td>-1.359807</td>\n",
              "      <td>-0.072781</td>\n",
              "      <td>2.536347</td>\n",
              "      <td>1.378155</td>\n",
              "      <td>-0.338321</td>\n",
              "      <td>0.462388</td>\n",
              "      <td>0.239599</td>\n",
              "      <td>0.098698</td>\n",
              "      <td>...</td>\n",
              "      <td>0.251412</td>\n",
              "      <td>-0.018307</td>\n",
              "      <td>0.277838</td>\n",
              "      <td>-0.110474</td>\n",
              "      <td>0.066928</td>\n",
              "      <td>0.128539</td>\n",
              "      <td>-0.189115</td>\n",
              "      <td>0.133558</td>\n",
              "      <td>-0.021053</td>\n",
              "      <td>0</td>\n",
              "    </tr>\n",
              "    <tr>\n",
              "      <th>1</th>\n",
              "      <td>-0.269825</td>\n",
              "      <td>-0.994983</td>\n",
              "      <td>1.191857</td>\n",
              "      <td>0.266151</td>\n",
              "      <td>0.166480</td>\n",
              "      <td>0.448154</td>\n",
              "      <td>0.060018</td>\n",
              "      <td>-0.082361</td>\n",
              "      <td>-0.078803</td>\n",
              "      <td>0.085102</td>\n",
              "      <td>...</td>\n",
              "      <td>-0.069083</td>\n",
              "      <td>-0.225775</td>\n",
              "      <td>-0.638672</td>\n",
              "      <td>0.101288</td>\n",
              "      <td>-0.339846</td>\n",
              "      <td>0.167170</td>\n",
              "      <td>0.125895</td>\n",
              "      <td>-0.008983</td>\n",
              "      <td>0.014724</td>\n",
              "      <td>0</td>\n",
              "    </tr>\n",
              "    <tr>\n",
              "      <th>2</th>\n",
              "      <td>4.983721</td>\n",
              "      <td>-0.994972</td>\n",
              "      <td>-1.358354</td>\n",
              "      <td>-1.340163</td>\n",
              "      <td>1.773209</td>\n",
              "      <td>0.379780</td>\n",
              "      <td>-0.503198</td>\n",
              "      <td>1.800499</td>\n",
              "      <td>0.791461</td>\n",
              "      <td>0.247676</td>\n",
              "      <td>...</td>\n",
              "      <td>0.524980</td>\n",
              "      <td>0.247998</td>\n",
              "      <td>0.771679</td>\n",
              "      <td>0.909412</td>\n",
              "      <td>-0.689281</td>\n",
              "      <td>-0.327642</td>\n",
              "      <td>-0.139097</td>\n",
              "      <td>-0.055353</td>\n",
              "      <td>-0.059752</td>\n",
              "      <td>0</td>\n",
              "    </tr>\n",
              "    <tr>\n",
              "      <th>3</th>\n",
              "      <td>1.418291</td>\n",
              "      <td>-0.994972</td>\n",
              "      <td>-0.966272</td>\n",
              "      <td>-0.185226</td>\n",
              "      <td>1.792993</td>\n",
              "      <td>-0.863291</td>\n",
              "      <td>-0.010309</td>\n",
              "      <td>1.247203</td>\n",
              "      <td>0.237609</td>\n",
              "      <td>0.377436</td>\n",
              "      <td>...</td>\n",
              "      <td>-0.208038</td>\n",
              "      <td>-0.108300</td>\n",
              "      <td>0.005274</td>\n",
              "      <td>-0.190321</td>\n",
              "      <td>-1.175575</td>\n",
              "      <td>0.647376</td>\n",
              "      <td>-0.221929</td>\n",
              "      <td>0.062723</td>\n",
              "      <td>0.061458</td>\n",
              "      <td>0</td>\n",
              "    </tr>\n",
              "    <tr>\n",
              "      <th>4</th>\n",
              "      <td>0.670579</td>\n",
              "      <td>-0.994960</td>\n",
              "      <td>-1.158233</td>\n",
              "      <td>0.877737</td>\n",
              "      <td>1.548718</td>\n",
              "      <td>0.403034</td>\n",
              "      <td>-0.407193</td>\n",
              "      <td>0.095921</td>\n",
              "      <td>0.592941</td>\n",
              "      <td>-0.270533</td>\n",
              "      <td>...</td>\n",
              "      <td>0.408542</td>\n",
              "      <td>-0.009431</td>\n",
              "      <td>0.798278</td>\n",
              "      <td>-0.137458</td>\n",
              "      <td>0.141267</td>\n",
              "      <td>-0.206010</td>\n",
              "      <td>0.502292</td>\n",
              "      <td>0.219422</td>\n",
              "      <td>0.215153</td>\n",
              "      <td>0</td>\n",
              "    </tr>\n",
              "  </tbody>\n",
              "</table>\n",
              "<p>5 rows × 31 columns</p>\n",
              "</div>\n",
              "      <button class=\"colab-df-convert\" onclick=\"convertToInteractive('df-150f93f3-63a6-4479-a9c9-0805c6fec813')\"\n",
              "              title=\"Convert this dataframe to an interactive table.\"\n",
              "              style=\"display:none;\">\n",
              "        \n",
              "  <svg xmlns=\"http://www.w3.org/2000/svg\" height=\"24px\"viewBox=\"0 0 24 24\"\n",
              "       width=\"24px\">\n",
              "    <path d=\"M0 0h24v24H0V0z\" fill=\"none\"/>\n",
              "    <path d=\"M18.56 5.44l.94 2.06.94-2.06 2.06-.94-2.06-.94-.94-2.06-.94 2.06-2.06.94zm-11 1L8.5 8.5l.94-2.06 2.06-.94-2.06-.94L8.5 2.5l-.94 2.06-2.06.94zm10 10l.94 2.06.94-2.06 2.06-.94-2.06-.94-.94-2.06-.94 2.06-2.06.94z\"/><path d=\"M17.41 7.96l-1.37-1.37c-.4-.4-.92-.59-1.43-.59-.52 0-1.04.2-1.43.59L10.3 9.45l-7.72 7.72c-.78.78-.78 2.05 0 2.83L4 21.41c.39.39.9.59 1.41.59.51 0 1.02-.2 1.41-.59l7.78-7.78 2.81-2.81c.8-.78.8-2.07 0-2.86zM5.41 20L4 18.59l7.72-7.72 1.47 1.35L5.41 20z\"/>\n",
              "  </svg>\n",
              "      </button>\n",
              "      \n",
              "  <style>\n",
              "    .colab-df-container {\n",
              "      display:flex;\n",
              "      flex-wrap:wrap;\n",
              "      gap: 12px;\n",
              "    }\n",
              "\n",
              "    .colab-df-convert {\n",
              "      background-color: #E8F0FE;\n",
              "      border: none;\n",
              "      border-radius: 50%;\n",
              "      cursor: pointer;\n",
              "      display: none;\n",
              "      fill: #1967D2;\n",
              "      height: 32px;\n",
              "      padding: 0 0 0 0;\n",
              "      width: 32px;\n",
              "    }\n",
              "\n",
              "    .colab-df-convert:hover {\n",
              "      background-color: #E2EBFA;\n",
              "      box-shadow: 0px 1px 2px rgba(60, 64, 67, 0.3), 0px 1px 3px 1px rgba(60, 64, 67, 0.15);\n",
              "      fill: #174EA6;\n",
              "    }\n",
              "\n",
              "    [theme=dark] .colab-df-convert {\n",
              "      background-color: #3B4455;\n",
              "      fill: #D2E3FC;\n",
              "    }\n",
              "\n",
              "    [theme=dark] .colab-df-convert:hover {\n",
              "      background-color: #434B5C;\n",
              "      box-shadow: 0px 1px 3px 1px rgba(0, 0, 0, 0.15);\n",
              "      filter: drop-shadow(0px 1px 2px rgba(0, 0, 0, 0.3));\n",
              "      fill: #FFFFFF;\n",
              "    }\n",
              "  </style>\n",
              "\n",
              "      <script>\n",
              "        const buttonEl =\n",
              "          document.querySelector('#df-150f93f3-63a6-4479-a9c9-0805c6fec813 button.colab-df-convert');\n",
              "        buttonEl.style.display =\n",
              "          google.colab.kernel.accessAllowed ? 'block' : 'none';\n",
              "\n",
              "        async function convertToInteractive(key) {\n",
              "          const element = document.querySelector('#df-150f93f3-63a6-4479-a9c9-0805c6fec813');\n",
              "          const dataTable =\n",
              "            await google.colab.kernel.invokeFunction('convertToInteractive',\n",
              "                                                     [key], {});\n",
              "          if (!dataTable) return;\n",
              "\n",
              "          const docLinkHtml = 'Like what you see? Visit the ' +\n",
              "            '<a target=\"_blank\" href=https://colab.research.google.com/notebooks/data_table.ipynb>data table notebook</a>'\n",
              "            + ' to learn more about interactive tables.';\n",
              "          element.innerHTML = '';\n",
              "          dataTable['output_type'] = 'display_data';\n",
              "          await google.colab.output.renderOutput(dataTable, element);\n",
              "          const docLink = document.createElement('div');\n",
              "          docLink.innerHTML = docLinkHtml;\n",
              "          element.appendChild(docLink);\n",
              "        }\n",
              "      </script>\n",
              "    </div>\n",
              "  </div>\n",
              "  "
            ]
          },
          "metadata": {},
          "execution_count": 11
        }
      ]
    },
    {
      "cell_type": "code",
      "source": [
        "#Replotting the distplot to see the difference in distribution after robust scaling.  \n",
        "distplot(df)"
      ],
      "metadata": {
        "colab": {
          "base_uri": "https://localhost:8080/",
          "height": 609
        },
        "id": "GE8Im444FVyR",
        "outputId": "f81f065b-84a0-4682-ccb5-4ed9cdf08641"
      },
      "execution_count": 12,
      "outputs": [
        {
          "output_type": "display_data",
          "data": {
            "text/plain": [
              "<Figure size 1080x720 with 2 Axes>"
            ],
            "image/png": "[encoded data removed]"
          },
          "metadata": {
            "needs_background": "light"
          }
        }
      ]
    },
    {
      "cell_type": "markdown",
      "source": [
        "<h2 align = \"center\"> Resampling and Classification </h2>"
      ],
      "metadata": {
        "id": "OeRFxFHrdNoG"
      }
    },
    {
      "cell_type": "code",
      "source": [
        "# Creating a dictionary of classifiers and resampling methods.\n",
        "\n",
        "# Classifiers\n",
        "classf = {'LogisticRegression': LogisticRegression(),\n",
        "          'KNN': KNeighborsClassifier(),\n",
        "          'DecisionTree': DecisionTreeClassifier(),\n",
        "          'RandomForest': RandomForestClassifier()}\n",
        "\n",
        "# Resampling method (or strategy)\n",
        "strat = {'Random Over Sampling': RandomOverSampler(sampling_strategy='minority'),\n",
        "          'SMOTE': SMOTE(sampling_strategy='minority'),\n",
        "          'Random Under Sampling': RandomUnderSampler(sampling_strategy='not minority'),\n",
        "          'NearMiss': NearMiss(sampling_strategy='not minority')}"
      ],
      "metadata": {
        "id": "libkmztkVRwz"
      },
      "execution_count": 13,
      "outputs": []
    },
    {
      "cell_type": "code",
      "source": [
        "# Function for splitting the dataset\n",
        "def split(df):\n",
        "  X = df.drop('Class', axis = 1)\n",
        "  y = df['Class']\n",
        "\n",
        "  X_train, X_test, y_train, y_test = train_test_split(X, y, \n",
        "                                                      test_size=0.25, \n",
        "                                                      random_state=1)\n",
        "\n",
        "  return(X_train.to_numpy(),\n",
        "  X_test.to_numpy(),\n",
        "  y_train.to_numpy(),\n",
        "  y_test.to_numpy())\n",
        "\n",
        "X_train, X_test, y_train, y_test = split(df)"
      ],
      "metadata": {
        "id": "kZsIzvUcHG_c"
      },
      "execution_count": 14,
      "outputs": []
    },
    {
      "cell_type": "code",
      "source": [
        "# Function for resampling the data, training the classifiers and predicting. Returns a dictionay of\n",
        "# of combiantion of all the classifiers with all the training techniques.\n",
        "def resample_train_predict(X_train, y_train, \n",
        "          X_test, y_test, \n",
        "          classf, strat):\n",
        "\n",
        "  Res_dataframes = {}\n",
        "\n",
        "  # Without resampling\n",
        "  data = {'Metric':['Precision', 'Recall', 'F1', 'AUC/ROC']}\n",
        "\n",
        "  # Training clasifiers and predicting\n",
        "  for name, classifier in classf.items():\n",
        "    clf = classifier.fit(X_train, y_train)\n",
        "    pred = clf.predict(X_test)\n",
        "    data[name] = [round(precision_score(y_test, pred), 2), \n",
        "                round(recall_score(y_test, pred), 2), \n",
        "                round(f1_score(y_test, pred), 2), \n",
        "                round(roc_auc_score(y_test, clf.predict_proba(X_test)[:, 1]), 2)]\n",
        "\n",
        "  res = pd.DataFrame(data)\n",
        "  print('No Resampling:')\n",
        "  print(res, '\\n')\n",
        "\n",
        "  Res_dataframes['No Resampling'] = res\n",
        "\n",
        "  # Resampling and predicting.\n",
        "  for key, method in strat.items():\n",
        "    \n",
        "    # Resampling\n",
        "    temp_X_train, temp_y_train = method.fit_resample(X_train, y_train)\n",
        "  \n",
        "    data = {'Metric':['Precision', 'Recall', 'F1', 'AUC/ROC']}\n",
        "\n",
        "    # Training classifiers on resampled data and predicting.\n",
        "    for name, classsifier in classf.items():\n",
        "      clf = classifier.fit(temp_X_train, temp_y_train)\n",
        "      pred = clf.predict(X_test)\n",
        "      data[name] = [round(precision_score(y_test, pred), 2), \n",
        "                round(recall_score(y_test, pred), 2), \n",
        "                round(f1_score(y_test, pred), 2), \n",
        "                round(roc_auc_score(y_test, clf.predict_proba(X_test)[:, 1]), 2)]\n",
        "  \n",
        "    result = pd.DataFrame(data)\n",
        "    Res_dataframes[key] = result\n",
        "    print(key)\n",
        "    print(result, '\\n')\n",
        "    data.clear()\n",
        "    result = result.iloc[0:0]\n",
        "\n",
        "  return(Res_dataframes)\n",
        "\n",
        "Res_dataframes = resample_train_predict(X_train, y_train,\n",
        "                                        X_test, y_test,\n",
        "                                        classf, strat)"
      ],
      "metadata": {
        "colab": {
          "base_uri": "https://localhost:8080/"
        },
        "id": "v9HFm8n8CIdQ",
        "outputId": "0e3ce31e-1127-4e79-ec3c-cdc793c1b334"
      },
      "execution_count": 15,
      "outputs": [
        {
          "output_type": "stream",
          "name": "stdout",
          "text": [
            "No Resampling:\n",
            "      Metric  LogisticRegression   KNN  DecisionTree  RandomForest\n",
            "0  Precision                0.83  0.92          0.72          0.93\n",
            "1     Recall                0.58  0.71          0.73          0.75\n",
            "2         F1                0.68  0.80          0.72          0.83\n",
            "3    AUC/ROC                0.97  0.90          0.86          0.93 \n",
            "\n",
            "Random Over Sampling\n",
            "      Metric  LogisticRegression   KNN  DecisionTree  RandomForest\n",
            "0  Precision                0.92  0.93          0.93          0.92\n",
            "1     Recall                0.77  0.77          0.77          0.77\n",
            "2         F1                0.84  0.85          0.84          0.84\n",
            "3    AUC/ROC                0.93  0.93          0.93          0.94 \n",
            "\n",
            "SMOTE\n",
            "      Metric  LogisticRegression   KNN  DecisionTree  RandomForest\n",
            "0  Precision                0.89  0.89          0.87          0.89\n",
            "1     Recall                0.79  0.79          0.78          0.79\n",
            "2         F1                0.84  0.84          0.82          0.84\n",
            "3    AUC/ROC                0.97  0.97          0.97          0.97 \n",
            "\n",
            "Random Under Sampling\n",
            "      Metric  LogisticRegression   KNN  DecisionTree  RandomForest\n",
            "0  Precision                0.06  0.07          0.08          0.08\n",
            "1     Recall                0.86  0.86          0.86          0.86\n",
            "2         F1                0.12  0.13          0.15          0.14\n",
            "3    AUC/ROC                0.98  0.98          0.98          0.98 \n",
            "\n",
            "NearMiss\n",
            "      Metric  LogisticRegression   KNN  DecisionTree  RandomForest\n",
            "0  Precision                0.00  0.00          0.00          0.00\n",
            "1     Recall                0.99  0.98          0.99          0.99\n",
            "2         F1                0.00  0.00          0.00          0.00\n",
            "3    AUC/ROC                0.91  0.90          0.90          0.91 \n",
            "\n"
          ]
        }
      ]
    },
    {
      "cell_type": "markdown",
      "source": [
        "<h2 align = \"center\"> Result </h2>"
      ],
      "metadata": {
        "id": "iyutJT7wdSMQ"
      }
    },
    {
      "cell_type": "code",
      "source": [
        "#Function to print the result of the resampling techniques.\n",
        "def resdisplay(result): # Takes a dictionary of dataframes as input\n",
        "  for key, data in result.items():\n",
        "    print('Resampling: ', key, '\\n', data, '\\n')\n",
        "\n",
        "resdisplay(Res_dataframes)"
      ],
      "metadata": {
        "id": "zwyZkODwCAfh",
        "colab": {
          "base_uri": "https://localhost:8080/"
        },
        "outputId": "76ec51b9-78f5-423a-b376-1f4f5ac60854"
      },
      "execution_count": 16,
      "outputs": [
        {
          "output_type": "stream",
          "name": "stdout",
          "text": [
            "Resampling:  No Resampling \n",
            "       Metric  LogisticRegression   KNN  DecisionTree  RandomForest\n",
            "0  Precision                0.83  0.92          0.72          0.93\n",
            "1     Recall                0.58  0.71          0.73          0.75\n",
            "2         F1                0.68  0.80          0.72          0.83\n",
            "3    AUC/ROC                0.97  0.90          0.86          0.93 \n",
            "\n",
            "Resampling:  Random Over Sampling \n",
            "       Metric  LogisticRegression   KNN  DecisionTree  RandomForest\n",
            "0  Precision                0.92  0.93          0.93          0.92\n",
            "1     Recall                0.77  0.77          0.77          0.77\n",
            "2         F1                0.84  0.85          0.84          0.84\n",
            "3    AUC/ROC                0.93  0.93          0.93          0.94 \n",
            "\n",
            "Resampling:  SMOTE \n",
            "       Metric  LogisticRegression   KNN  DecisionTree  RandomForest\n",
            "0  Precision                0.89  0.89          0.87          0.89\n",
            "1     Recall                0.79  0.79          0.78          0.79\n",
            "2         F1                0.84  0.84          0.82          0.84\n",
            "3    AUC/ROC                0.97  0.97          0.97          0.97 \n",
            "\n",
            "Resampling:  Random Under Sampling \n",
            "       Metric  LogisticRegression   KNN  DecisionTree  RandomForest\n",
            "0  Precision                0.06  0.07          0.08          0.08\n",
            "1     Recall                0.86  0.86          0.86          0.86\n",
            "2         F1                0.12  0.13          0.15          0.14\n",
            "3    AUC/ROC                0.98  0.98          0.98          0.98 \n",
            "\n",
            "Resampling:  NearMiss \n",
            "       Metric  LogisticRegression   KNN  DecisionTree  RandomForest\n",
            "0  Precision                0.00  0.00          0.00          0.00\n",
            "1     Recall                0.99  0.98          0.99          0.99\n",
            "2         F1                0.00  0.00          0.00          0.00\n",
            "3    AUC/ROC                0.91  0.90          0.90          0.91 \n",
            "\n"
          ]
        }
      ]
    },
    {
      "cell_type": "code",
      "source": [
        "# Function to bar plot the resultant dataframes.\n",
        "def barplotres(Res_dataframe):\n",
        "  #Storing result of the resampled and non-resampled dataframe for plotting.\n",
        "  bardata = Res_dataframe\n",
        "\n",
        "  resample = [] # Store the name of the resampling technique\n",
        "  data = [] # Store the dataframe associated with the resampling technique\n",
        "  k=0 # Variable to traverse the above lists.\n",
        "\n",
        "  # Reshaping the dataframes for plotting\n",
        "  for key, dataframe in bardata.items():\n",
        "    dataframe = dataframe.melt(id_vars='Metric').rename(columns=str.title)\n",
        "    dataframe.rename({'Variable':'Classifier'}, \n",
        "                     axis=1, \n",
        "                     inplace=True)\n",
        "    resample.insert(k, key)\n",
        "    data.insert(k, dataframe)\n",
        "    k=k+1\n",
        "  \n",
        "  fig = plt.subplots(figsize=(25,15))\n",
        "\n",
        "  #Axes\n",
        "  ax1 = plt.subplot2grid(shape=(2,6),  \n",
        "                         loc=(0,0), \n",
        "                         colspan=2)\n",
        "  ax2 = plt.subplot2grid(shape=(2,6), \n",
        "                         loc=(0,2), \n",
        "                         colspan=2)\n",
        "  ax3 = plt.subplot2grid(shape=(2,6), \n",
        "                         loc=(0,4), \n",
        "                         colspan=2)\n",
        "  ax4 = plt.subplot2grid(shape=(2,6), \n",
        "                         loc=(1,1), \n",
        "                         colspan=2)\n",
        "  ax5 = plt.subplot2grid(shape=(2,6), \n",
        "                         loc=(1,3), \n",
        "                         colspan=2)\n",
        "  \n",
        "  axes = [ax1, ax2, ax3, ax4, ax5]\n",
        "\n",
        "  # Plotting the graphs and setting titles on axes\n",
        "  k=0\n",
        "  for d in data:\n",
        "    axes[k].set_title(resample[k],\n",
        "                      fontsize=16)\n",
        "    sns.barplot(x='Classifier',\n",
        "                y='Value',\n",
        "                hue='Metric',\n",
        "                data=d,\n",
        "                ax=axes[k])\n",
        "    k=k+1\n",
        "\n",
        "barplotres(Res_dataframes)"
      ],
      "metadata": {
        "id": "pCJE_MsWOURG",
        "colab": {
          "base_uri": "https://localhost:8080/",
          "height": 895
        },
        "outputId": "8ee2a0f2-0858-4735-8fec-36ef15ddd072"
      },
      "execution_count": 25,
      "outputs": [
        {
          "output_type": "display_data",
          "data": {
            "text/plain": [
              "<Figure size 1800x1080 with 5 Axes>"
            ],
            "image/png": "[encoded data removed]"
          },
          "metadata": {
            "needs_background": "light"
          }
        }
      ]
    },
    {
      "cell_type": "markdown",
      "source": [
        "<p align = \"justify\"> From the graph it is clear that over sampling techniques, i.e., Random Over Sampling and SMOTE, are working best for this dataset. While under sampling techniques are not working here. Among the Classifiers Random Forest is working best for the dataset. It has good Recall and Precision, decent ROC/AUC score when compared to other classifiers. Logistic Regression is the worst working classifier. </p>\n",
        "\n",
        "---\n",
        "\n",
        "<p align = \"justify\"> Further I'll compare the confusion matrix of Random Forest with the resampled data from Random Over Sampling and SMOTE to see which technique produces lesser number of false positive. As false positive can flag a valid tansaction as fraud which can be very troublesome for the customer.</p>"
      ],
      "metadata": {
        "id": "oaHhmBYeJVw_"
      }
    },
    {
      "cell_type": "code",
      "source": [
        "best_method = {'SMOTE': SMOTE(sampling_strategy='minority'),\n",
        "               'Random Over Sampling': RandomOverSampler(sampling_strategy='minority')}\n"
      ],
      "metadata": {
        "id": "vslQ54GNJVGg"
      },
      "execution_count": 28,
      "outputs": []
    },
    {
      "cell_type": "code",
      "source": [
        "def confusionmatrix(X_train, y_train,\n",
        "                    X_test, y_test,\n",
        "                    resample):\n",
        "  conf_mat = {}\n",
        "  rf = RandomForestClassifier()\n",
        "\n",
        "  # Resample, train the model and calculate confusion matrix.\n",
        "  for key, res in resample.items():\n",
        "    temp_X_train, temp_y_train = res.fit_resample(X_train, y_train)\n",
        "    clf = rf.fit(temp_X_train, temp_y_train)\n",
        "    pred = clf.predict(X_test)\n",
        "    conf_mat[key] = confusion_matrix(y_test, pred)\n",
        "  \n",
        "  return(conf_mat)\n",
        "\n",
        "confmat = confusionmatrix(X_train, y_train,\n",
        "                          X_test, y_test,\n",
        "                          best_method)"
      ],
      "metadata": {
        "id": "XmoZ8HeLeDSS"
      },
      "execution_count": 30,
      "outputs": []
    },
    {
      "cell_type": "code",
      "source": [
        "for key, val in confmat.items():\n",
        "  print(key)\n",
        "  print(val)"
      ],
      "metadata": {
        "colab": {
          "base_uri": "https://localhost:8080/"
        },
        "id": "4JoDjga7v7ZG",
        "outputId": "72caa302-b2da-4cd9-b027-9bc45852c11e"
      },
      "execution_count": 34,
      "outputs": [
        {
          "output_type": "stream",
          "name": "stdout",
          "text": [
            "SMOTE\n",
            "[[71080    11]\n",
            " [   24    87]]\n",
            "Random Over Sampling\n",
            "[[71084     7]\n",
            " [   26    85]]\n"
          ]
        }
      ]
    },
    {
      "cell_type": "code",
      "source": [
        "def confmatplot(confmat):\n",
        "  fig, ax = plt.subplots(nrows=1,\n",
        "                         ncols=2,\n",
        "                         figsize=(15,6))\n",
        "  smconf = confmat['SMOTE']\n",
        "  rosconf = confmat['Random Over Sampling']\n",
        "\n",
        "  rosflt = rosconf.flatten()\n",
        "  smflt = smconf.flatten()\n",
        "\n",
        "  labels = [\"True Negative\",\"False Possitive\",\"False Negative\",\"True Positive\"]\n",
        "  rlabels = [\"\",\"\",\"\",\"\"]\n",
        "  smlabels = [\"\",\"\",\"\",\"\"]\n",
        "  # For Random Over Sampling\n",
        "  for i in range(4):\n",
        "    rlabels[i] = labels[i] + '\\n' + str(rosflt[i])\n",
        "\n",
        "  rlabels = np.asarray(rlabels).reshape(2,2)\n",
        "  sns.heatmap(rosconf,\n",
        "              fmt='',\n",
        "              annot=rlabels,\n",
        "              ax=ax[0]);\n",
        "  ax[0].set_title(\"Random Over Sampling Confusion Matrix\",\n",
        "                  fontsize=14)\n",
        "  # For SMOTE\n",
        "  for i in range(4):\n",
        "    smlabels[i] = labels[i] + '\\n' + str(smflt[i])\n",
        "\n",
        "  smlabels = np.asarray(smlabels).reshape(2,2)\n",
        "  sns.heatmap(smconf,\n",
        "              fmt='',\n",
        "              annot=smlabels,\n",
        "              ax=ax[1]);\n",
        "  ax[1].set_title(\"SMOTE Confusion Matrix\",\n",
        "                  fontsize=14)\n",
        "\n",
        "confmatplot(confmat)"
      ],
      "metadata": {
        "colab": {
          "base_uri": "https://localhost:8080/",
          "height": 391
        },
        "id": "OvmJKX0Tvntd",
        "outputId": "2a7ad6e0-cfef-45d3-a613-03b67e64c194"
      },
      "execution_count": 70,
      "outputs": [
        {
          "output_type": "display_data",
          "data": {
            "text/plain": [
              "<Figure size 1080x432 with 4 Axes>"
            ],
            "image/png": "[encoded data removed]"
          },
          "metadata": {
            "needs_background": "light"
          }
        }
      ]
    },
    {
      "cell_type": "markdown",
      "source": [
        "<h2 align=\"center\"> Conclusion </h2>\n",
        "\n",
        "<p align = \"Justify\"> From the above confusion matrix visualization it can be observed that the Random Over sampling technique is working slightly better than the SMOTE technique due to the lower number false positives. Overall from this project it can be concluded that the for the famous credicard.csv dataset Random Over Sampling with Random Forest works best when it comes to classification. </p>"
      ],
      "metadata": {
        "id": "6VOtH0NVvHZ5"
      }
    }
  ]
}